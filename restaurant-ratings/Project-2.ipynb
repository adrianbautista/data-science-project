{
 "metadata": {
  "name": "",
  "signature": "sha256:0507a2f9653ea46c89beeb270e6e27cd10e36170b35146a12fb62bc1bedae499"
 },
 "nbformat": 3,
 "nbformat_minor": 0,
 "worksheets": [
  {
   "cells": [
    {
     "cell_type": "code",
     "collapsed": false,
     "input": [
      "import pandas as pd\n",
      "\n",
      "%pylab inline"
     ],
     "language": "python",
     "metadata": {},
     "outputs": [
      {
       "output_type": "stream",
       "stream": "stdout",
       "text": [
        "Populating the interactive namespace from numpy and matplotlib\n"
       ]
      }
     ],
     "prompt_number": 1
    },
    {
     "cell_type": "code",
     "collapsed": false,
     "input": [
      "restaurant_ratings = pd.read_csv('dumps/munged_results.csv')"
     ],
     "language": "python",
     "metadata": {},
     "outputs": [],
     "prompt_number": 3
    },
    {
     "cell_type": "markdown",
     "metadata": {},
     "source": [
      "# Target\n",
      "\n",
      "To observe and model out (if it exists) the relationship between a restaurant's sanitary rating by New York's Department of Health and Mental Health (DOHMH) and its FourSquare rating. Additionally, the data and models developed for this project could also be used to identify any existing relationahips between the cuisine and its restaurant rating.\n",
      "\n",
      "## The Predictor\n",
      "\n",
      "The primary predicting element for this project will be a restaurant's rating and it's cusine. Not all records in the dataset have FourSquare ratings."
     ]
    },
    {
     "cell_type": "markdown",
     "metadata": {},
     "source": [
      "# Features\n",
      "\n",
      "Features in this dataset include:\n",
      "\n",
      "- Address (including borough)\n",
      "- Grade (restaurant sanitary rating)\n",
      "- Cuisine Description (both by DOHMH and FourSquare)\n",
      "- User Rating\n",
      "- Number Of Users Who Have Checked In\n",
      "\n",
      "## Why These Features\n",
      "\n",
      "I chose these features because I believe that for certain cuisines, customers are willing to forgive lower restaurant ratings."
     ]
    },
    {
     "cell_type": "code",
     "collapsed": false,
     "input": [
      "restaurant_ratings.columns.values"
     ],
     "language": "python",
     "metadata": {},
     "outputs": [
      {
       "metadata": {},
       "output_type": "pyout",
       "prompt_number": 6,
       "text": [
        "array(['Unnamed: 0', 'CAMIS', 'DBA', 'BORO', 'BUILDING', 'STREET',\n",
        "       'ZIPCODE', 'PHONE', 'CUISINE DESCRIPTION', 'INSPECTION DATE',\n",
        "       'ACTION', 'VIOLATION CODE', 'VIOLATION DESCRIPTION',\n",
        "       'CRITICAL FLAG', 'SCORE', 'GRADE', 'GRADE DATE', 'RECORD DATE',\n",
        "       'INSPECTION TYPE', 'foursquare_id', 'foursquare_rating',\n",
        "       'foursquare_category', 'foursquare_num_of_users'], dtype=object)"
       ]
      }
     ],
     "prompt_number": 6
    },
    {
     "cell_type": "code",
     "collapsed": false,
     "input": [
      "restaurant_ratings['foursquare_rating'].hist()"
     ],
     "language": "python",
     "metadata": {},
     "outputs": [
      {
       "metadata": {},
       "output_type": "pyout",
       "prompt_number": 9,
       "text": [
        "<matplotlib.axes.AxesSubplot at 0x106f8e210>"
       ]
      },
      {
       "metadata": {},
       "output_type": "display_data",
       "png": "[encoded data removed]",
       "text": [
        "<matplotlib.figure.Figure at 0x1072dfc10>"
       ]
      }
     ],
     "prompt_number": 9
    },
    {
     "cell_type": "code",
     "collapsed": false,
     "input": [
      "subset_ratings = restaurant_ratings[0:50]"
     ],
     "language": "python",
     "metadata": {},
     "outputs": [],
     "prompt_number": 10
    },
    {
     "cell_type": "code",
     "collapsed": false,
     "input": [
      "grade_dummy_features = pd.get_dummies(restaurant_ratings['GRADE'])"
     ],
     "language": "python",
     "metadata": {},
     "outputs": [],
     "prompt_number": 14
    },
    {
     "cell_type": "code",
     "collapsed": false,
     "input": [
      "restaurant_ratings = restaurant_ratings.join(grade_dummy_features)"
     ],
     "language": "python",
     "metadata": {},
     "outputs": [],
     "prompt_number": 15
    },
    {
     "cell_type": "code",
     "collapsed": false,
     "input": [
      "cuisine_dummary_features = pd.get_dummies(restaurant_ratings['CUISINE DESCRIPTION'])"
     ],
     "language": "python",
     "metadata": {},
     "outputs": [],
     "prompt_number": 22
    },
    {
     "cell_type": "code",
     "collapsed": false,
     "input": [
      "foursquare_cuisine_dummy_features = pd.get_dummies(restaurant_ratings['foursquare_category'])"
     ],
     "language": "python",
     "metadata": {},
     "outputs": [],
     "prompt_number": 23
    },
    {
     "cell_type": "markdown",
     "metadata": {},
     "source": [
      "# Data Preparation\n",
      "\n",
      "In preparing the data for this project, a few things had to be done:\n",
      "\n",
      "1. Consolidate the DOHMH data and reduce grading records to the most recent inspectation date per restaurant\n",
      "2. Query FourSquare's API and add the related data to each respective restauarant (when available)\n",
      "3. Make dummy variables for categorical data (e.g. 'GRADE')"
     ]
    },
    {
     "cell_type": "code",
     "collapsed": false,
     "input": [
      "import sklearn\n",
      "from sklearn.cross_validation import train_test_split"
     ],
     "language": "python",
     "metadata": {},
     "outputs": [],
     "prompt_number": 33
    },
    {
     "cell_type": "code",
     "collapsed": false,
     "input": [
      "train_test_split??"
     ],
     "language": "python",
     "metadata": {},
     "outputs": [],
     "prompt_number": 34
    },
    {
     "cell_type": "code",
     "collapsed": false,
     "input": [
      "rr_train, rr_test = train_test_split(restaurant_ratings)"
     ],
     "language": "python",
     "metadata": {},
     "outputs": [],
     "prompt_number": 35
    },
    {
     "cell_type": "code",
     "collapsed": false,
     "input": [
      "rr_train"
     ],
     "language": "python",
     "metadata": {},
     "outputs": [
      {
       "metadata": {},
       "output_type": "pyout",
       "prompt_number": 37,
       "text": [
        "array([[9710, 40372618, 'BURGER KING', ..., 0.0, 0.0, 0.0],\n",
        "       [525727, 50016018, 'DON PANCHO VILLA RESTAURANT', ..., 0.0, 1.0, 0.0],\n",
        "       [509346, 50005216, 'BROOKLYN NIGHTS', ..., 0.0, 0.0, 0.0],\n",
        "       ..., \n",
        "       [483871, 50000100, 'NSE FIFTY SIX', ..., 0.0, 0.0, 0.0],\n",
        "       [519932, 50011045, 'CHINA WOK KING CORP', ..., 0.0, 0.0, 0.0],\n",
        "       [286575, 41436866, \"MCDONALD'S\", ..., 0.0, 0.0, 0.0]], dtype=object)"
       ]
      }
     ],
     "prompt_number": 37
    },
    {
     "cell_type": "code",
     "collapsed": false,
     "input": [],
     "language": "python",
     "metadata": {},
     "outputs": []
    }
   ],
   "metadata": {}
  }
 ]
}