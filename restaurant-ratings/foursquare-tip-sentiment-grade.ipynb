{
 "metadata": {
  "name": "",
  "signature": "sha256:395909ff53454bec1491265826aa8cf0375697c44487a62efcb50d82601e4c3e"
 },
 "nbformat": 3,
 "nbformat_minor": 0,
 "worksheets": [
  {
   "cells": [
    {
     "cell_type": "code",
     "collapsed": false,
     "input": [
      "import pandas as pd\n",
      "import numpy as np\n",
      "import matplotlib.pyplot as plt\n",
      "\n",
      "from sklearn import linear_model, naive_bayes, feature_selection, metrics\n",
      "from sklearn.cross_validation import train_test_split\n",
      "\n",
      "%matplotlib inline"
     ],
     "language": "python",
     "metadata": {},
     "outputs": [],
     "prompt_number": 14
    },
    {
     "cell_type": "code",
     "collapsed": false,
     "input": [
      "tips_with_adjectives = pd.read_pickle('./dumps/tips_with_adjectives.pkl')\n",
      "adj_dummies = pd.read_pickle('./dumps/adjective_dataframe.pkl')\n",
      "adj_df = pd.read_csv('./dumps/adjective_count_list.csv')"
     ],
     "language": "python",
     "metadata": {},
     "outputs": [],
     "prompt_number": 15
    },
    {
     "cell_type": "code",
     "collapsed": false,
     "input": [
      "desired_columns = [\n",
      "    'foursquare_id',\n",
      "    'DBA',\n",
      "    'description', \n",
      "    'tip_words', \n",
      "    'tip_adjs', \n",
      "    'adj_string', \n",
      "    'foursquare_rating',\n",
      "    'foursquare_num_of_users',\n",
      "    'foursquare_price_tier',\n",
      "    'grade_A', \n",
      "    'grade_C',\n",
      "    'GRADE',\n",
      "    'BORO', \n",
      "    'ZIPCODE'\n",
      "]\n",
      "\n",
      "tips_df = tips_with_adjectives[desired_columns]"
     ],
     "language": "python",
     "metadata": {},
     "outputs": [],
     "prompt_number": 16
    },
    {
     "cell_type": "code",
     "collapsed": false,
     "input": [
      "adjective_list = list(adj_df[adj_df['count'] > 10]['word'])"
     ],
     "language": "python",
     "metadata": {},
     "outputs": [],
     "prompt_number": 17
    },
    {
     "cell_type": "code",
     "collapsed": false,
     "input": [
      "def fit_and_score(model, x_features, y_targets, columns):\n",
      "    model.fit(x_features, y_targets)\n",
      "    score = model.score(x_features, y_targets)\n",
      "    y_pred = model.predict(x_features)\n",
      "    auc = metrics.roc_auc_score(y_targets, y_pred)\n",
      "    \n",
      "#     model_df = pd.DataFrame(columns=['word', 'p-value', 'coef-value'])\n",
      "    p_values = feature_selection.f_classif(x_features, y_targets)\n",
      "\n",
      "#     for coef_index, p_value in enumerate(p_values[1]):\n",
      "#         model_df.append({'word': columns[coef_index], 'p-value': round(p_value, 4), 'coef-value': model.coef_[0][coef_index]}, ignore_index=True)\n",
      "    \n",
      "    print 'MODEL: ', model\n",
      "    print 'SCORE: ', score\n",
      "    print 'AUC: ', auc\n",
      "    print '\\n'\n",
      "    \n",
      "#     return model_df\n",
      "    \n",
      "    "
     ],
     "language": "python",
     "metadata": {},
     "outputs": [],
     "prompt_number": 36
    },
    {
     "cell_type": "code",
     "collapsed": false,
     "input": [
      "tips_adj_df = tips_df.drop(['grade_A', 'grade_C', 'GRADE'], axis=1).join(adj_dummies)\n",
      "# ADJECTIVE COLUMNS START AT INDEX 11\n",
      "\n",
      "# based on adjectives included in tip descriptions\n",
      "X_adjs = tips_adj_df.ix[:, 11:]\n",
      "\n",
      "# based on ratings, number of users, and price tier\n",
      "X_foursquare_info = tips_adj_df[['foursquare_rating', 'foursquare_num_of_users', 'foursquare_price_tier']].dropna(axis=1)"
     ],
     "language": "python",
     "metadata": {},
     "outputs": [],
     "prompt_number": 30
    },
    {
     "cell_type": "markdown",
     "metadata": {},
     "source": [
      "# Predicting Grade \"A\" restaurants"
     ]
    },
    {
     "cell_type": "code",
     "collapsed": false,
     "input": [
      "y = tips_df['grade_A']"
     ],
     "language": "python",
     "metadata": {},
     "outputs": [],
     "prompt_number": 31
    },
    {
     "cell_type": "code",
     "collapsed": false,
     "input": [
      "X_train, X_test, y_train, y_test = train_test_split(X_adjs, y)"
     ],
     "language": "python",
     "metadata": {},
     "outputs": [],
     "prompt_number": 32
    },
    {
     "cell_type": "code",
     "collapsed": false,
     "input": [
      "clf_multi_nb = naive_bayes.MultinomialNB()\n",
      "\n",
      "print 'Using training set'\n",
      "fit_and_score(clf_multi_nb, X_train, y_train, X_adjs.columns)\n",
      "\n",
      "print 'Using testing set'\n",
      "fit_and_score(clf_multi_nb, X_test, y_test, X_adjs.columns)"
     ],
     "language": "python",
     "metadata": {},
     "outputs": [
      {
       "output_type": "stream",
       "stream": "stdout",
       "text": [
        "Using training set\n",
        "MODEL: "
       ]
      },
      {
       "output_type": "stream",
       "stream": "stdout",
       "text": [
        " MultinomialNB(alpha=1.0, class_prior=None, fit_prior=True)\n",
        "SCORE:  0.905796479176\n",
        "AUC:  0.502947656672\n",
        "\n",
        "\n",
        "Using testing set\n",
        "MODEL: "
       ]
      },
      {
       "output_type": "stream",
       "stream": "stdout",
       "text": [
        " MultinomialNB(alpha=1.0, class_prior=None, fit_prior=True)\n",
        "SCORE:  0.904688304997\n",
        "AUC:  0.511774760563\n",
        "\n",
        "\n"
       ]
      }
     ],
     "prompt_number": 37
    },
    {
     "cell_type": "code",
     "collapsed": false,
     "input": [
      "clf_linear = linear_model.LinearRegression()\n",
      "\n",
      "print 'Using training set'\n",
      "fit_and_score(clf_linear, X_train, y_train, X_adjs.columns)\n",
      "\n",
      "print 'Using testing set'\n",
      "fit_and_score(clf_linear, X_test, y_test, X_adjs.columns)"
     ],
     "language": "python",
     "metadata": {},
     "outputs": [
      {
       "output_type": "stream",
       "stream": "stdout",
       "text": [
        "Using training set\n",
        "MODEL: "
       ]
      },
      {
       "output_type": "stream",
       "stream": "stdout",
       "text": [
        " LinearRegression(copy_X=True, fit_intercept=True, normalize=False)\n",
        "SCORE:  0.0320603557894\n",
        "AUC:  0.667498831326\n",
        "\n",
        "\n",
        "Using testing set\n",
        "MODEL: "
       ]
      },
      {
       "output_type": "stream",
       "stream": "stdout",
       "text": [
        " LinearRegression(copy_X=True, fit_intercept=True, normalize=False)\n",
        "SCORE:  0.0858182623644\n",
        "AUC:  0.747342452161\n",
        "\n",
        "\n"
       ]
      }
     ],
     "prompt_number": 38
    },
    {
     "cell_type": "code",
     "collapsed": false,
     "input": [
      "clf_logistic = linear_model.LogisticRegression()\n",
      "\n",
      "print 'Using training set'\n",
      "fit_and_score(clf_logistic, X_train, y_train, X_adjs.columns)\n",
      "\n",
      "print 'Using testing set'\n",
      "fit_and_score(clf_logistic, X_test, y_test, X_adjs.columns)"
     ],
     "language": "python",
     "metadata": {},
     "outputs": [
      {
       "output_type": "stream",
       "stream": "stdout",
       "text": [
        "Using training set\n",
        "MODEL: "
       ]
      },
      {
       "output_type": "stream",
       "stream": "stdout",
       "text": [
        " LogisticRegression(C=1.0, class_weight=None, dual=False, fit_intercept=True,\n",
        "          intercept_scaling=1, penalty='l2', random_state=None, tol=0.0001)\n",
        "SCORE:  0.90571060541\n",
        "AUC:  0.500454959054\n",
        "\n",
        "\n",
        "Using testing set\n",
        "MODEL: "
       ]
      },
      {
       "output_type": "stream",
       "stream": "stdout",
       "text": [
        " LogisticRegression(C=1.0, class_weight=None, dual=False, fit_intercept=True,\n",
        "          intercept_scaling=1, penalty='l2', random_state=None, tol=0.0001)\n",
        "SCORE:  0.905203503349\n",
        "AUC:  0.499857752489\n",
        "\n",
        "\n"
       ]
      }
     ],
     "prompt_number": 40
    },
    {
     "cell_type": "markdown",
     "metadata": {},
     "source": [
      "# Predicting Grade \"C\" restaurants"
     ]
    },
    {
     "cell_type": "code",
     "collapsed": false,
     "input": [
      "y = tips_df['grade_C']"
     ],
     "language": "python",
     "metadata": {},
     "outputs": [],
     "prompt_number": 22
    },
    {
     "cell_type": "code",
     "collapsed": false,
     "input": [
      "X_train, X_test, y_train, y_test = train_test_split(X_adjs, y)"
     ],
     "language": "python",
     "metadata": {},
     "outputs": [],
     "prompt_number": 41
    },
    {
     "cell_type": "code",
     "collapsed": false,
     "input": [
      "clf_multi_nb = naive_bayes.MultinomialNB()\n",
      "\n",
      "print 'Using training set'\n",
      "fit_and_score(clf_multi_nb, X_train, y_train, X_adjs.columns)\n",
      "\n",
      "print 'Using testing set'\n",
      "fit_and_score(clf_multi_nb, X_test, y_test, X_adjs.columns)"
     ],
     "language": "python",
     "metadata": {},
     "outputs": [
      {
       "output_type": "stream",
       "stream": "stdout",
       "text": [
        "Using training set\n",
        "MODEL: "
       ]
      },
      {
       "output_type": "stream",
       "stream": "stdout",
       "text": [
        " MultinomialNB(alpha=1.0, class_prior=None, fit_prior=True)\n",
        "SCORE:  0.906397595535\n",
        "AUC:  0.504070337534\n",
        "\n",
        "\n",
        "Using testing set\n",
        "MODEL: "
       ]
      },
      {
       "output_type": "stream",
       "stream": "stdout",
       "text": [
        " MultinomialNB(alpha=1.0, class_prior=None, fit_prior=True)\n",
        "SCORE:  0.903400309119\n",
        "AUC:  0.51448858584\n",
        "\n",
        "\n"
       ]
      }
     ],
     "prompt_number": 42
    },
    {
     "cell_type": "code",
     "collapsed": false,
     "input": [
      "clf_linear = linear_model.LinearRegression()\n",
      "\n",
      "print 'Using training set'\n",
      "fit_and_score(clf_linear, X_train, y_train, X_adjs.columns)\n",
      "\n",
      "print 'Using testing set'\n",
      "fit_and_score(clf_linear, X_test, y_test, X_adjs.columns)"
     ],
     "language": "python",
     "metadata": {},
     "outputs": [
      {
       "output_type": "stream",
       "stream": "stdout",
       "text": [
        "Using training set\n",
        "MODEL: "
       ]
      },
      {
       "output_type": "stream",
       "stream": "stdout",
       "text": [
        " LinearRegression(copy_X=True, fit_intercept=True, normalize=False)\n",
        "SCORE:  0.0360977795848\n",
        "AUC:  0.674992022954\n",
        "\n",
        "\n",
        "Using testing set\n",
        "MODEL: "
       ]
      },
      {
       "output_type": "stream",
       "stream": "stdout",
       "text": [
        " LinearRegression(copy_X=True, fit_intercept=True, normalize=False)\n",
        "SCORE:  0.0793159019328\n",
        "AUC:  0.739685632878\n",
        "\n",
        "\n"
       ]
      }
     ],
     "prompt_number": 43
    },
    {
     "cell_type": "code",
     "collapsed": false,
     "input": [
      "clf_logistic = linear_model.LogisticRegression()\n",
      "\n",
      "print 'Using training set'\n",
      "fit_and_score(clf_logistic, X_train, y_train, X_adjs.columns)\n",
      "\n",
      "print 'Using testing set'\n",
      "fit_and_score(clf_logistic, X_test, y_test, X_adjs.columns)"
     ],
     "language": "python",
     "metadata": {},
     "outputs": [
      {
       "output_type": "stream",
       "stream": "stdout",
       "text": [
        "Using training set\n",
        "MODEL: "
       ]
      },
      {
       "output_type": "stream",
       "stream": "stdout",
       "text": [
        " LogisticRegression(C=1.0, class_weight=None, dual=False, fit_intercept=True,\n",
        "          intercept_scaling=1, penalty='l2', random_state=None, tol=0.0001)\n",
        "SCORE:  0.906569343066\n",
        "AUC:  0.500459136823\n",
        "\n",
        "\n",
        "Using testing set\n",
        "MODEL: "
       ]
      },
      {
       "output_type": "stream",
       "stream": "stdout",
       "text": [
        " LogisticRegression(C=1.0, class_weight=None, dual=False, fit_intercept=True,\n",
        "          intercept_scaling=1, penalty='l2', random_state=None, tol=0.0001)\n",
        "SCORE:  0.903142709943\n",
        "AUC:  0.501326259947\n",
        "\n",
        "\n"
       ]
      }
     ],
     "prompt_number": 44
    },
    {
     "cell_type": "code",
     "collapsed": false,
     "input": [],
     "language": "python",
     "metadata": {},
     "outputs": []
    }
   ],
   "metadata": {}
  }
 ]
}