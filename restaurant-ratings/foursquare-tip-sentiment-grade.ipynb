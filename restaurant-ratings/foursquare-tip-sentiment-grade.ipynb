{
 "metadata": {
  "name": "",
  "signature": "sha256:06b1f9ed27caa2e7159d948575c29a1f36ec037dcddb85f872b6e3935a8a31a2"
 },
 "nbformat": 3,
 "nbformat_minor": 0,
 "worksheets": [
  {
   "cells": [
    {
     "cell_type": "code",
     "collapsed": false,
     "input": [
      "import pandas as pd\n",
      "import numpy as np\n",
      "import matplotlib.pyplot as plt\n",
      "\n",
      "from sklearn import naive_bayes\n",
      "from sklearn import feature_selection\n",
      "from sklearn import metrics\n",
      "from sklearn.cross_validation import train_test_split\n",
      "\n",
      "%matplotlib inline"
     ],
     "language": "python",
     "metadata": {},
     "outputs": [],
     "prompt_number": 1
    },
    {
     "cell_type": "code",
     "collapsed": false,
     "input": [
      "tips_with_adjectives = pd.read_pickle('./dumps/tips_with_adjectives.pkl')\n",
      "adj_dummies = pd.read_pickle('./dumps/adjective_dataframe.pkl')\n",
      "adj_df = pd.read_csv('./dumps/adjective_count_list.csv')"
     ],
     "language": "python",
     "metadata": {},
     "outputs": [],
     "prompt_number": 8
    },
    {
     "cell_type": "code",
     "collapsed": false,
     "input": [
      "desired_columns = [\n",
      "    'foursquare_id',\n",
      "    'DBA',\n",
      "    'description', \n",
      "    'tip_words', \n",
      "    'tip_adjs', \n",
      "    'adj_string', \n",
      "    'foursquare_rating',\n",
      "    'foursquare_num_of_users',\n",
      "    'foursquare_price_tier',\n",
      "    'grade_A', \n",
      "    'grade_C',\n",
      "    'GRADE',\n",
      "    'BORO', \n",
      "    'ZIPCODE'\n",
      "]\n",
      "\n",
      "tips_df = tips_with_adjectives[desired_columns]"
     ],
     "language": "python",
     "metadata": {},
     "outputs": [],
     "prompt_number": 5
    },
    {
     "cell_type": "code",
     "collapsed": false,
     "input": [
      "adjective_list = list(adj_df[adj_df['count'] > 10]['word'])"
     ],
     "language": "python",
     "metadata": {},
     "outputs": [],
     "prompt_number": 17
    },
    {
     "cell_type": "code",
     "collapsed": false,
     "input": [
      "clf = naive_bayes.MultinomialNB()"
     ],
     "language": "python",
     "metadata": {},
     "outputs": [],
     "prompt_number": 25
    },
    {
     "cell_type": "code",
     "collapsed": false,
     "input": [
      "clf.fit(adj_dummies, tips_with_adjectives['grade_C']) "
     ],
     "language": "python",
     "metadata": {},
     "outputs": [
      {
       "metadata": {},
       "output_type": "pyout",
       "prompt_number": 26,
       "text": [
        "MultinomialNB(alpha=1.0, class_prior=None, fit_prior=True)"
       ]
      }
     ],
     "prompt_number": 26
    },
    {
     "cell_type": "code",
     "collapsed": false,
     "input": [
      "clf.score(adj_dummies, tips_with_adjectives['grade_C'])"
     ],
     "language": "python",
     "metadata": {},
     "outputs": [
      {
       "metadata": {},
       "output_type": "pyout",
       "prompt_number": 28,
       "text": [
        "0.98918013782443481"
       ]
      }
     ],
     "prompt_number": 28
    },
    {
     "cell_type": "code",
     "collapsed": false,
     "input": [
      "# y_true is tips_with_adjectives['grade_C']\n",
      "# y_pred is clf.predict(*args)\n",
      "\n",
      "# y_score = clf.predict(np.array(adj_dummies))\n",
      "\n",
      "\n",
      "# you select some features on dataset,\n",
      "# get subset dataset, execute .values to turn into np array\n",
      "# test_train_split\n",
      "# pass X_train clf.predict_log_prob(X_train)\n",
      "# use that in roc_auc_score\n",
      "# migth have to drop NaN values\n",
      "\n",
      "\n",
      "clf.predict(adj_dummies)\n",
      "\n",
      "metrics.roc_auc_score(tips_with_adjectives['grade_C'], y_score)\n"
     ],
     "language": "python",
     "metadata": {},
     "outputs": [
      {
       "metadata": {},
       "output_type": "pyout",
       "prompt_number": 32,
       "text": [
        "array([ 0.,  0.,  0., ...,  0.,  0.,  0.])"
       ]
      }
     ],
     "prompt_number": 32
    },
    {
     "cell_type": "code",
     "collapsed": false,
     "input": [],
     "language": "python",
     "metadata": {},
     "outputs": []
    }
   ],
   "metadata": {}
  }
 ]
}