{
 "metadata": {
  "name": "",
  "signature": "sha256:62ddfdd5e03349d9743d53de22c3f5006176bc11c2fc966f5668b5f29d1bff41"
 },
 "nbformat": 3,
 "nbformat_minor": 0,
 "worksheets": [
  {
   "cells": [
    {
     "cell_type": "code",
     "collapsed": false,
     "input": [
      "import pandas as pd\n",
      "import os\n",
      "import foursquare as fs"
     ],
     "language": "python",
     "metadata": {},
     "outputs": [],
     "prompt_number": 1
    },
    {
     "cell_type": "code",
     "collapsed": false,
     "input": [
      "client = fs.Foursquare(client_id=os.environ['FOURSQUARE_DS_CLIENT'], client_secret=os.environ['FOURSQUARE_DS_CLIENT_SEC'])"
     ],
     "language": "python",
     "metadata": {},
     "outputs": [],
     "prompt_number": 2
    },
    {
     "cell_type": "code",
     "collapsed": false,
     "input": [
      "results = client.venues.search(params={'near': '10075', 'query': 'Tiramisu'})"
     ],
     "language": "python",
     "metadata": {},
     "outputs": [],
     "prompt_number": 3
    },
    {
     "cell_type": "code",
     "collapsed": false,
     "input": [
      "result_id = results['venues'][0]['id']"
     ],
     "language": "python",
     "metadata": {},
     "outputs": [],
     "prompt_number": 5
    },
    {
     "cell_type": "code",
     "collapsed": false,
     "input": [
      "result = client.venues(result_id)"
     ],
     "language": "python",
     "metadata": {},
     "outputs": [],
     "prompt_number": 6
    },
    {
     "cell_type": "code",
     "collapsed": false,
     "input": [
      "result['venue']['tips']['groups'][0]['items'][0]['text']"
     ],
     "language": "python",
     "metadata": {},
     "outputs": [
      {
       "metadata": {},
       "output_type": "pyout",
       "prompt_number": 26,
       "text": [
        "u'Awesome food - great wine. Gem of an Italian place in the UES'"
       ]
      }
     ],
     "prompt_number": 26
    },
    {
     "cell_type": "code",
     "collapsed": false,
     "input": [
      "result['venue']['popular']"
     ],
     "language": "python",
     "metadata": {},
     "outputs": [
      {
       "metadata": {},
       "output_type": "pyout",
       "prompt_number": 27,
       "text": [
        "{u'isOpen': False,\n",
        " u'timeframes': [{u'days': u'Today',\n",
        "   u'includesToday': True,\n",
        "   u'open': [{u'renderedTime': u'Noon\\u20132:00 PM'},\n",
        "    {u'renderedTime': u'4:00 PM\\u20139:00 PM'}],\n",
        "   u'segments': []},\n",
        "  {u'days': u'Tue',\n",
        "   u'open': [{u'renderedTime': u'6:00 PM\\u201310:00 PM'}],\n",
        "   u'segments': []},\n",
        "  {u'days': u'Wed',\n",
        "   u'open': [{u'renderedTime': u'Noon\\u20132:00 PM'},\n",
        "    {u'renderedTime': u'6:00 PM\\u201310:00 PM'}],\n",
        "   u'segments': []},\n",
        "  {u'days': u'Thu',\n",
        "   u'open': [{u'renderedTime': u'1:00 PM\\u20132:00 PM'},\n",
        "    {u'renderedTime': u'6:00 PM\\u201310:00 PM'}],\n",
        "   u'segments': []},\n",
        "  {u'days': u'Fri',\n",
        "   u'open': [{u'renderedTime': u'Noon\\u20133:00 PM'},\n",
        "    {u'renderedTime': u'6:00 PM\\u201311:00 PM'}],\n",
        "   u'segments': []},\n",
        "  {u'days': u'Sat',\n",
        "   u'open': [{u'renderedTime': u'Noon\\u201310:00 PM'}],\n",
        "   u'segments': []},\n",
        "  {u'days': u'Sun',\n",
        "   u'open': [{u'renderedTime': u'Noon\\u20139:00 PM'}],\n",
        "   u'segments': []}]}"
       ]
      }
     ],
     "prompt_number": 27
    },
    {
     "cell_type": "code",
     "collapsed": false,
     "input": [
      "def get_foursquare_rating(restaurant):\n",
      "    print \"Computing restaurant \", restaurant['CAMIS']\n",
      "    foursquare_id, foursquare_rating, foursquare_category, foursquare_users, foursquare_price = None, None, None, None, None\n",
      "    \n",
      "    try:\n",
      "        restaurant_address = \"{0} {1} {2}\".format(restaurant['BUILDING'].strip(), restaurant['STREET'].strip(), int(restaurant['ZIPCODE']))\n",
      "        results = client.venues.search(params={'near': restaurant_address, 'query': restaurant['DBA'].strip()})\n",
      "\n",
      "        if len(results['venues']) != 0:\n",
      "            foursquare_id = results['venues'][0]['id']\n",
      "\n",
      "            restaurant_details = client.venues(results['venues'][0]['id'])\n",
      "\n",
      "            if 'venue' in restaurant_details:\n",
      "                if 'rating' in restaurant_details['venue']:\n",
      "                    foursquare_rating = restaurant_details['venue']['rating']\n",
      "\n",
      "                if len(restaurant_details['venue']['categories']):\n",
      "                    for category in restaurant_details['venue']['categories']:\n",
      "                        if 'primary' in category and category['primary'] == True:\n",
      "                            foursquare_category = category['shortName']\n",
      "\n",
      "                if 'stats' in restaurant_details['venue'] and 'usersCount' in restaurant_details['venue']['stats']:\n",
      "                    foursquare_users = restaurant_details['venue']['stats']['usersCount']\n",
      "                    \n",
      "                if 'price' in restaurant_details['venue'] and 'tier' in restaurant_details['venue']['price']:\n",
      "                    foursquare_price = restaurant_details['venue']['price']['tier']\n",
      "                    \n",
      "                    \n",
      "                    \n",
      "    except:\n",
      "        print \"Could not get info on \", restaurant['CAMIS']\n",
      "    \n",
      "    return pd.Series([restaurant['CAMIS'], restaurant['DBA'], restaurant['BORO'], restaurant['BUILDING'], restaurant['STREET'], restaurant['ZIPCODE'], restaurant['PHONE'],\n",
      "       restaurant['CUISINE DESCRIPTION'], restaurant['INSPECTION DATE'], restaurant['ACTION'],\n",
      "       restaurant['VIOLATION CODE'], restaurant['VIOLATION DESCRIPTION'], restaurant['CRITICAL FLAG'], restaurant['SCORE'],\n",
      "       restaurant['GRADE'], restaurant['GRADE DATE'], restaurant['RECORD DATE'], restaurant['INSPECTION TYPE'], foursquare_id, foursquare_rating, foursquare_category, foursquare_users, foursquare_price])"
     ],
     "language": "python",
     "metadata": {},
     "outputs": [],
     "prompt_number": 11
    },
    {
     "cell_type": "code",
     "collapsed": false,
     "input": [
      "# store the foursquare venue name for testing\n",
      "# have a dictionary that contains the tip list\n",
      "# look at dataframe concat\n",
      "# think about a list of dictionaries\n"
     ],
     "language": "python",
     "metadata": {},
     "outputs": [],
     "prompt_number": 29
    },
    {
     "cell_type": "code",
     "collapsed": false,
     "input": [],
     "language": "python",
     "metadata": {},
     "outputs": []
    }
   ],
   "metadata": {}
  }
 ]
}