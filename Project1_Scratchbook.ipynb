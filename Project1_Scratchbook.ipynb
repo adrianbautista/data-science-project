{
 "metadata": {
  "name": "",
  "signature": "sha256:45edfb1f37513cca6764fb233a202ae798d049034e8d8add67032b638bca5a8e"
 },
 "nbformat": 3,
 "nbformat_minor": 0,
 "worksheets": [
  {
   "cells": [
    {
     "cell_type": "code",
     "collapsed": false,
     "input": [
      "import numpy as np\n",
      "import matplotlib.pyplot as plt\n",
      "import pandas as pd"
     ],
     "language": "python",
     "metadata": {},
     "outputs": [],
     "prompt_number": 61
    },
    {
     "cell_type": "code",
     "collapsed": false,
     "input": [
      "%matplotlib inline"
     ],
     "language": "python",
     "metadata": {},
     "outputs": [],
     "prompt_number": 48
    },
    {
     "cell_type": "code",
     "collapsed": false,
     "input": [
      "china_film = pd.read_csv('./STATCHINA-V2220-film.csv')\n",
      "china_film['Year'] = pd.to_datetime(china_film['Year'])"
     ],
     "language": "python",
     "metadata": {},
     "outputs": []
    },
    {
     "cell_type": "code",
     "collapsed": false,
     "input": [
      "renamed_column_list = ['year', 'studios', 'features', 'cartoons', 'scifis', 'docs', 'specials']\n",
      "china_film.columns = renamed_column_list"
     ],
     "language": "python",
     "metadata": {},
     "outputs": []
    },
    {
     "cell_type": "code",
     "collapsed": false,
     "input": [
      "china_film.ix[:, 'studios':] = china_film.ix[:, 'studios':].fillna(float(0))"
     ],
     "language": "python",
     "metadata": {},
     "outputs": [],
     "prompt_number": 32
    },
    {
     "cell_type": "code",
     "collapsed": false,
     "input": [
      "china_film.describe()"
     ],
     "language": "python",
     "metadata": {},
     "outputs": [
      {
       "html": [
        "<div style=\"max-height:1000px;max-width:1500px;overflow:auto;\">\n",
        "<table border=\"1\" class=\"dataframe\">\n",
        "  <thead>\n",
        "    <tr style=\"text-align: right;\">\n",
        "      <th></th>\n",
        "      <th>studios</th>\n",
        "      <th>features</th>\n",
        "      <th>cartoons</th>\n",
        "      <th>scifis</th>\n",
        "      <th>docs</th>\n",
        "      <th>specials</th>\n",
        "    </tr>\n",
        "  </thead>\n",
        "  <tbody>\n",
        "    <tr>\n",
        "      <th>count</th>\n",
        "      <td> 33.000000</td>\n",
        "      <td>  33.000000</td>\n",
        "      <td> 33.000000</td>\n",
        "      <td>  33.000000</td>\n",
        "      <td>  33.000000</td>\n",
        "      <td> 33.000000</td>\n",
        "    </tr>\n",
        "    <tr>\n",
        "      <th>mean</th>\n",
        "      <td> 25.272727</td>\n",
        "      <td> 185.242424</td>\n",
        "      <td> 28.272727</td>\n",
        "      <td> 188.212121</td>\n",
        "      <td> 162.848485</td>\n",
        "      <td>  0.606061</td>\n",
        "    </tr>\n",
        "    <tr>\n",
        "      <th>std</th>\n",
        "      <td>  5.964859</td>\n",
        "      <td> 135.406571</td>\n",
        "      <td> 17.732866</td>\n",
        "      <td> 146.715873</td>\n",
        "      <td> 149.035046</td>\n",
        "      <td>  1.886455</td>\n",
        "    </tr>\n",
        "    <tr>\n",
        "      <th>min</th>\n",
        "      <td> 12.000000</td>\n",
        "      <td>  46.000000</td>\n",
        "      <td>  1.000000</td>\n",
        "      <td>  30.000000</td>\n",
        "      <td>   2.000000</td>\n",
        "      <td>  0.000000</td>\n",
        "    </tr>\n",
        "    <tr>\n",
        "      <th>25%</th>\n",
        "      <td> 20.000000</td>\n",
        "      <td> 105.000000</td>\n",
        "      <td> 13.000000</td>\n",
        "      <td>  40.000000</td>\n",
        "      <td>  16.000000</td>\n",
        "      <td>  0.000000</td>\n",
        "    </tr>\n",
        "    <tr>\n",
        "      <th>50%</th>\n",
        "      <td> 22.000000</td>\n",
        "      <td> 136.000000</td>\n",
        "      <td> 32.000000</td>\n",
        "      <td> 182.000000</td>\n",
        "      <td> 111.000000</td>\n",
        "      <td>  0.000000</td>\n",
        "    </tr>\n",
        "    <tr>\n",
        "      <th>75%</th>\n",
        "      <td> 31.000000</td>\n",
        "      <td> 170.000000</td>\n",
        "      <td> 45.000000</td>\n",
        "      <td> 343.000000</td>\n",
        "      <td> 299.000000</td>\n",
        "      <td>  0.000000</td>\n",
        "    </tr>\n",
        "    <tr>\n",
        "      <th>max</th>\n",
        "      <td> 33.000000</td>\n",
        "      <td> 558.000000</td>\n",
        "      <td> 58.000000</td>\n",
        "      <td> 387.000000</td>\n",
        "      <td> 419.000000</td>\n",
        "      <td>  9.000000</td>\n",
        "    </tr>\n",
        "  </tbody>\n",
        "</table>\n",
        "</div>"
       ],
       "metadata": {},
       "output_type": "pyout",
       "prompt_number": 54,
       "text": [
        "         studios    features   cartoons      scifis        docs   specials\n",
        "count  33.000000   33.000000  33.000000   33.000000   33.000000  33.000000\n",
        "mean   25.272727  185.242424  28.272727  188.212121  162.848485   0.606061\n",
        "std     5.964859  135.406571  17.732866  146.715873  149.035046   1.886455\n",
        "min    12.000000   46.000000   1.000000   30.000000    2.000000   0.000000\n",
        "25%    20.000000  105.000000  13.000000   40.000000   16.000000   0.000000\n",
        "50%    22.000000  136.000000  32.000000  182.000000  111.000000   0.000000\n",
        "75%    31.000000  170.000000  45.000000  343.000000  299.000000   0.000000\n",
        "max    33.000000  558.000000  58.000000  387.000000  419.000000   9.000000"
       ]
      }
     ],
     "prompt_number": 54
    },
    {
     "cell_type": "code",
     "collapsed": false,
     "input": [
      "china_film.head()"
     ],
     "language": "python",
     "metadata": {},
     "outputs": [
      {
       "html": [
        "<div style=\"max-height:1000px;max-width:1500px;overflow:auto;\">\n",
        "<table border=\"1\" class=\"dataframe\">\n",
        "  <thead>\n",
        "    <tr style=\"text-align: right;\">\n",
        "      <th></th>\n",
        "      <th>year</th>\n",
        "      <th>studios</th>\n",
        "      <th>features</th>\n",
        "      <th>cartoons</th>\n",
        "      <th>scifis</th>\n",
        "      <th>docs</th>\n",
        "      <th>specials</th>\n",
        "    </tr>\n",
        "  </thead>\n",
        "  <tbody>\n",
        "    <tr>\n",
        "      <th>0</th>\n",
        "      <td>2011-12-31</td>\n",
        "      <td> 31</td>\n",
        "      <td> 558</td>\n",
        "      <td> 24</td>\n",
        "      <td> 76</td>\n",
        "      <td> 26</td>\n",
        "      <td> 5</td>\n",
        "    </tr>\n",
        "    <tr>\n",
        "      <th>1</th>\n",
        "      <td>2010-12-31</td>\n",
        "      <td> 31</td>\n",
        "      <td> 526</td>\n",
        "      <td> 16</td>\n",
        "      <td> 54</td>\n",
        "      <td> 16</td>\n",
        "      <td> 9</td>\n",
        "    </tr>\n",
        "    <tr>\n",
        "      <th>2</th>\n",
        "      <td>2009-12-31</td>\n",
        "      <td> 31</td>\n",
        "      <td> 456</td>\n",
        "      <td> 27</td>\n",
        "      <td> 52</td>\n",
        "      <td> 19</td>\n",
        "      <td> 4</td>\n",
        "    </tr>\n",
        "    <tr>\n",
        "      <th>3</th>\n",
        "      <td>2008-12-31</td>\n",
        "      <td> 33</td>\n",
        "      <td> 406</td>\n",
        "      <td> 16</td>\n",
        "      <td> 39</td>\n",
        "      <td> 16</td>\n",
        "      <td> 2</td>\n",
        "    </tr>\n",
        "    <tr>\n",
        "      <th>4</th>\n",
        "      <td>2007-12-31</td>\n",
        "      <td> 32</td>\n",
        "      <td> 402</td>\n",
        "      <td>  6</td>\n",
        "      <td> 34</td>\n",
        "      <td>  9</td>\n",
        "      <td> 0</td>\n",
        "    </tr>\n",
        "  </tbody>\n",
        "</table>\n",
        "</div>"
       ],
       "metadata": {},
       "output_type": "pyout",
       "prompt_number": 55,
       "text": [
        "        year  studios  features  cartoons  scifis  docs  specials\n",
        "0 2011-12-31       31       558        24      76    26         5\n",
        "1 2010-12-31       31       526        16      54    16         9\n",
        "2 2009-12-31       31       456        27      52    19         4\n",
        "3 2008-12-31       33       406        16      39    16         2\n",
        "4 2007-12-31       32       402         6      34     9         0"
       ]
      }
     ],
     "prompt_number": 55
    },
    {
     "cell_type": "code",
     "collapsed": false,
     "input": [
      "cf_time = china_film.set_index(pd.DatetimeIndex(china_film.year))\n",
      "cf_time.drop('year', axis=1, inplace=True)\n",
      "cf_time.head()"
     ],
     "language": "python",
     "metadata": {},
     "outputs": [
      {
       "html": [
        "<div style=\"max-height:1000px;max-width:1500px;overflow:auto;\">\n",
        "<table border=\"1\" class=\"dataframe\">\n",
        "  <thead>\n",
        "    <tr style=\"text-align: right;\">\n",
        "      <th></th>\n",
        "      <th>studios</th>\n",
        "      <th>features</th>\n",
        "      <th>cartoons</th>\n",
        "      <th>scifis</th>\n",
        "      <th>docs</th>\n",
        "      <th>specials</th>\n",
        "    </tr>\n",
        "  </thead>\n",
        "  <tbody>\n",
        "    <tr>\n",
        "      <th>2011-12-31</th>\n",
        "      <td> 31</td>\n",
        "      <td> 558</td>\n",
        "      <td> 24</td>\n",
        "      <td> 76</td>\n",
        "      <td> 26</td>\n",
        "      <td> 5</td>\n",
        "    </tr>\n",
        "    <tr>\n",
        "      <th>2010-12-31</th>\n",
        "      <td> 31</td>\n",
        "      <td> 526</td>\n",
        "      <td> 16</td>\n",
        "      <td> 54</td>\n",
        "      <td> 16</td>\n",
        "      <td> 9</td>\n",
        "    </tr>\n",
        "    <tr>\n",
        "      <th>2009-12-31</th>\n",
        "      <td> 31</td>\n",
        "      <td> 456</td>\n",
        "      <td> 27</td>\n",
        "      <td> 52</td>\n",
        "      <td> 19</td>\n",
        "      <td> 4</td>\n",
        "    </tr>\n",
        "    <tr>\n",
        "      <th>2008-12-31</th>\n",
        "      <td> 33</td>\n",
        "      <td> 406</td>\n",
        "      <td> 16</td>\n",
        "      <td> 39</td>\n",
        "      <td> 16</td>\n",
        "      <td> 2</td>\n",
        "    </tr>\n",
        "    <tr>\n",
        "      <th>2007-12-31</th>\n",
        "      <td> 32</td>\n",
        "      <td> 402</td>\n",
        "      <td>  6</td>\n",
        "      <td> 34</td>\n",
        "      <td>  9</td>\n",
        "      <td> 0</td>\n",
        "    </tr>\n",
        "  </tbody>\n",
        "</table>\n",
        "</div>"
       ],
       "metadata": {},
       "output_type": "pyout",
       "prompt_number": 70,
       "text": [
        "            studios  features  cartoons  scifis  docs  specials\n",
        "2011-12-31       31       558        24      76    26         5\n",
        "2010-12-31       31       526        16      54    16         9\n",
        "2009-12-31       31       456        27      52    19         4\n",
        "2008-12-31       33       406        16      39    16         2\n",
        "2007-12-31       32       402         6      34     9         0"
       ]
      }
     ],
     "prompt_number": 70
    },
    {
     "cell_type": "code",
     "collapsed": false,
     "input": [
      "fig,axl = plt.subplots(1,1)\n",
      "axl.hist(cf_time.studios)\n",
      "axl.set_title('Number of studios')"
     ],
     "language": "python",
     "metadata": {},
     "outputs": [
      {
       "metadata": {},
       "output_type": "pyout",
       "prompt_number": 95,
       "text": [
        "<matplotlib.text.Text at 0x119607050>"
       ]
      },
      {
       "metadata": {},
       "output_type": "display_data",
       "png": "[encoded data removed]",
       "text": [
        "<matplotlib.figure.Figure at 0x11983b810>"
       ]
      }
     ],
     "prompt_number": 95
    },
    {
     "cell_type": "code",
     "collapsed": false,
     "input": [
      "plt.figure(figsize=(10,5))\n",
      "plt.scatter(cf_time.index, cf_time.features)\n",
      "plt.xlabel('Year')\n",
      "plt.ylabel('Number of feature films released')\n",
      "plt.title('Films released in China over time')"
     ],
     "language": "python",
     "metadata": {},
     "outputs": [
      {
       "metadata": {},
       "output_type": "pyout",
       "prompt_number": 79,
       "text": [
        "<matplotlib.text.Text at 0x1189a5e90>"
       ]
      },
      {
       "metadata": {},
       "output_type": "display_data",
       "png": "[encoded data removed]",
       "text": [
        "<matplotlib.figure.Figure at 0x1189470d0>"
       ]
      }
     ],
     "prompt_number": 79
    },
    {
     "cell_type": "code",
     "collapsed": false,
     "input": [
      "bigger_figger = plt.figure(figsize=(10,7))\n",
      "ax = cf_time.features.plot()\n",
      "cf_time.scifis.plot()\n",
      "cf_time.cartoons.plot()\n",
      "\n",
      "ax.set_figure = bigger_figger\n",
      "ax.set_title('Films in China')\n",
      "ax.legend(loc='best')"
     ],
     "language": "python",
     "metadata": {},
     "outputs": [
      {
       "metadata": {},
       "output_type": "pyout",
       "prompt_number": 97,
       "text": [
        "<matplotlib.legend.Legend at 0x119ce1bd0>"
       ]
      },
      {
       "metadata": {},
       "output_type": "display_data",
       "png": "[encoded data removed]",
       "text": [
        "<matplotlib.figure.Figure at 0x119cebdd0>"
       ]
      }
     ],
     "prompt_number": 97
    },
    {
     "cell_type": "code",
     "collapsed": false,
     "input": [
      "cf_by_types = cf_time.ix[:, 2:]\n",
      "cf_by_types.head()"
     ],
     "language": "python",
     "metadata": {},
     "outputs": [
      {
       "html": [
        "<div style=\"max-height:1000px;max-width:1500px;overflow:auto;\">\n",
        "<table border=\"1\" class=\"dataframe\">\n",
        "  <thead>\n",
        "    <tr style=\"text-align: right;\">\n",
        "      <th></th>\n",
        "      <th>cartoons</th>\n",
        "      <th>scifis</th>\n",
        "      <th>docs</th>\n",
        "      <th>specials</th>\n",
        "    </tr>\n",
        "  </thead>\n",
        "  <tbody>\n",
        "    <tr>\n",
        "      <th>2011-12-31</th>\n",
        "      <td> 24</td>\n",
        "      <td> 76</td>\n",
        "      <td> 26</td>\n",
        "      <td> 5</td>\n",
        "    </tr>\n",
        "    <tr>\n",
        "      <th>2010-12-31</th>\n",
        "      <td> 16</td>\n",
        "      <td> 54</td>\n",
        "      <td> 16</td>\n",
        "      <td> 9</td>\n",
        "    </tr>\n",
        "    <tr>\n",
        "      <th>2009-12-31</th>\n",
        "      <td> 27</td>\n",
        "      <td> 52</td>\n",
        "      <td> 19</td>\n",
        "      <td> 4</td>\n",
        "    </tr>\n",
        "    <tr>\n",
        "      <th>2008-12-31</th>\n",
        "      <td> 16</td>\n",
        "      <td> 39</td>\n",
        "      <td> 16</td>\n",
        "      <td> 2</td>\n",
        "    </tr>\n",
        "    <tr>\n",
        "      <th>2007-12-31</th>\n",
        "      <td>  6</td>\n",
        "      <td> 34</td>\n",
        "      <td>  9</td>\n",
        "      <td> 0</td>\n",
        "    </tr>\n",
        "  </tbody>\n",
        "</table>\n",
        "</div>"
       ],
       "metadata": {},
       "output_type": "pyout",
       "prompt_number": 100,
       "text": [
        "            cartoons  scifis  docs  specials\n",
        "2011-12-31        24      76    26         5\n",
        "2010-12-31        16      54    16         9\n",
        "2009-12-31        27      52    19         4\n",
        "2008-12-31        16      39    16         2\n",
        "2007-12-31         6      34     9         0"
       ]
      }
     ],
     "prompt_number": 100
    },
    {
     "cell_type": "code",
     "collapsed": false,
     "input": [
      "pd.scatter_matrix(cf_by_types)"
     ],
     "language": "python",
     "metadata": {},
     "outputs": [
      {
       "metadata": {},
       "output_type": "pyout",
       "prompt_number": 101,
       "text": [
        "array([[<matplotlib.axes.AxesSubplot object at 0x1190c86d0>,\n",
        "        <matplotlib.axes.AxesSubplot object at 0x119db2d90>,\n",
        "        <matplotlib.axes.AxesSubplot object at 0x119e49c10>,\n",
        "        <matplotlib.axes.AxesSubplot object at 0x119eab710>],\n",
        "       [<matplotlib.axes.AxesSubplot object at 0x119f2c4d0>,\n",
        "        <matplotlib.axes.AxesSubplot object at 0x119f922d0>,\n",
        "        <matplotlib.axes.AxesSubplot object at 0x11a013190>,\n",
        "        <matplotlib.axes.AxesSubplot object at 0x11a048210>],\n",
        "       [<matplotlib.axes.AxesSubplot object at 0x11a0f3cd0>,\n",
        "        <matplotlib.axes.AxesSubplot object at 0x11a177a90>,\n",
        "        <matplotlib.axes.AxesSubplot object at 0x11a1d8d90>,\n",
        "        <matplotlib.axes.AxesSubplot object at 0x11a263c50>],\n",
        "       [<matplotlib.axes.AxesSubplot object at 0x11a2ba790>,\n",
        "        <matplotlib.axes.AxesSubplot object at 0x11a348a50>,\n",
        "        <matplotlib.axes.AxesSubplot object at 0x11a381bd0>,\n",
        "        <matplotlib.axes.AxesSubplot object at 0x11a437450>]], dtype=object)"
       ]
      },
      {
       "metadata": {},
       "output_type": "display_data",
       "png": "[encoded data removed]",
       "text": [
        "<matplotlib.figure.Figure at 0x1197bd910>"
       ]
      }
     ],
     "prompt_number": 101
    },
    {
     "cell_type": "code",
     "collapsed": false,
     "input": [],
     "language": "python",
     "metadata": {},
     "outputs": []
    }
   ],
   "metadata": {}
  }
 ]
}